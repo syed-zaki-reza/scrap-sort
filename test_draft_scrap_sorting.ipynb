{
  "cells": [
    {
      "cell_type": "code",
      "execution_count": 1,
      "metadata": {
        "id": "o8KRHtGITXEL",
        "colab": {
          "base_uri": "https://localhost:8080/"
        },
        "outputId": "19fa2a33-f64d-4610-e0f1-7b5fb08d2799"
      },
      "outputs": [
        {
          "output_type": "stream",
          "name": "stdout",
          "text": [
            "Collecting algorithms\n",
            "  Downloading algorithms-0.1.4-py3-none-any.whl (209 kB)\n",
            "\u001b[2K     \u001b[90m━━━━━━━━━━━━━━━━━━━━━━━━━━━━━━━━━━━━━━━━\u001b[0m \u001b[32m209.2/209.2 kB\u001b[0m \u001b[31m2.4 MB/s\u001b[0m eta \u001b[36m0:00:00\u001b[0m\n",
            "\u001b[?25hInstalling collected packages: algorithms\n",
            "Successfully installed algorithms-0.1.4\n"
          ]
        }
      ],
      "source": [
        "!pip install algorithms"
      ]
    },
    {
      "cell_type": "code",
      "execution_count": 2,
      "metadata": {
        "id": "S_zU9ZUvCLwN"
      },
      "outputs": [],
      "source": [
        "import time\n",
        "import numpy as np\n",
        "from itertools import chain\n",
        "import math\n",
        "from algorithms.sort import radix_sort, counting_sort, bucket_sort, bubble_sort, quick_sort, merge_sort, heap_sort, insertion_sort, selection_sort, shell_sort"
      ]
    },
    {
      "cell_type": "code",
      "source": [
        "import sys\n",
        "# Adjusting the limit as needed\n",
        "sys.setrecursionlimit(999999999)"
      ],
      "metadata": {
        "id": "nlAYlLRHKM5T"
      },
      "execution_count": 3,
      "outputs": []
    },
    {
      "cell_type": "code",
      "execution_count": 4,
      "metadata": {
        "id": "48IHnfC7BR2j",
        "colab": {
          "base_uri": "https://localhost:8080/"
        },
        "outputId": "b3ee7c9f-3b09-4770-b5dd-c19cf5c523e5"
      },
      "outputs": [
        {
          "output_type": "stream",
          "name": "stdout",
          "text": [
            "[ 9917120 86618081 19331487 ... 39108233 43112452 14720787]\n"
          ]
        }
      ],
      "source": [
        "# Number range inside large array\n",
        "lowest_possible_number = 0\n",
        "highest_possible_number = 99999999\n",
        "large_array_size = 49999\n",
        "\n",
        "# Generate the large array with random numbers\n",
        "large_array = np.random.randint(low=lowest_possible_number, high=highest_possible_number, size=large_array_size)\n",
        "# large_array = np.random.uniform(low=lowest_possible_number, high=highest_possible_number, size=large_array_size)\n",
        "\n",
        "#\n",
        "print(large_array)"
      ]
    },
    {
      "cell_type": "code",
      "execution_count": 5,
      "metadata": {
        "id": "9NEQgArEAqDi",
        "colab": {
          "base_uri": "https://localhost:8080/"
        },
        "outputId": "9198502e-19a3-41a1-f789-fc79af87b95d"
      },
      "outputs": [
        {
          "output_type": "stream",
          "name": "stdout",
          "text": [
            "Max:  99999759.000000, Min:  4157.000000\n",
            "Scrap Size: 6020346\n"
          ]
        }
      ],
      "source": [
        "# Calculating overall time\n",
        "start_time_scrap = time.time()\n",
        "\n",
        "# Checking MIN & MAX number inside the large array\n",
        "large_array_min_value: int = int(math.ceil(min(large_array)))\n",
        "large_array_max_value: int = int(math.floor(max(large_array)))\n",
        "\n",
        "#\n",
        "print(f\"Max: {large_array_max_value: .6f}, Min: {large_array_min_value: .6f}\")\n",
        "\n",
        "# Calculate the number of scrap\n",
        "sturges_num_scraps = math.log2(len(large_array)) + 1\n",
        "\n",
        "# Define the scrap size\n",
        "if sturges_num_scraps % 2 == 0:\n",
        "    sturges_num_scraps += 1\n",
        "\n",
        "if int(((large_array_max_value - large_array_min_value) // sturges_num_scraps) // 10000 + 1) < 1000:\n",
        "    scrap_size = int(((large_array_max_value - large_array_min_value) // sturges_num_scraps) + 1)\n",
        "else:\n",
        "    scrap_size = int(((large_array_max_value - large_array_min_value) // sturges_num_scraps) // 10000 + 1)\n",
        "\n",
        "#\n",
        "print(f\"Scrap Size: {scrap_size}\")\n",
        "\n",
        "# Create the scraps\n",
        "num_scraps = int((large_array_max_value // scrap_size)) + 1\n",
        "scraps = [[] for _ in range(num_scraps)]\n",
        "\n",
        "# Place each element in the appropriate scrap\n",
        "for element in large_array:\n",
        "    scrap_index = int(math.floor(element) // scrap_size)\n",
        "    scraps[scrap_index].append(element)\n",
        "\n",
        "# Flatten the scraps into a partially sorted array\n",
        "partially_sorted = list(chain.from_iterable(scraps))"
      ]
    },
    {
      "cell_type": "code",
      "execution_count": 6,
      "metadata": {
        "id": "HUD5SnIhA6ZV"
      },
      "outputs": [],
      "source": [
        "# Verify the length\n",
        "assert len(partially_sorted) == len(large_array)"
      ]
    },
    {
      "cell_type": "code",
      "execution_count": 7,
      "metadata": {
        "id": "YIyCMazGAyCD",
        "colab": {
          "base_uri": "https://localhost:8080/"
        },
        "outputId": "b4bc1974-4ca6-492f-b056-9edd79f69403"
      },
      "outputs": [
        {
          "output_type": "stream",
          "name": "stdout",
          "text": [
            "Time to partially sort large_array list: 0.092129 seconds\n"
          ]
        }
      ],
      "source": [
        "large_array_time_scrap = time.time() - start_time_scrap\n",
        "print(f\"Time to partially sort large_array list: {large_array_time_scrap:.6f} seconds\")"
      ]
    },
    {
      "cell_type": "code",
      "execution_count": 8,
      "metadata": {
        "id": "apKkFw33BDYZ",
        "colab": {
          "base_uri": "https://localhost:8080/"
        },
        "outputId": "62e266e2-0461-4e90-bc4d-5a6c76a25f4d"
      },
      "outputs": [
        {
          "output_type": "stream",
          "name": "stdout",
          "text": [
            "Time to sort partially sorted list: 0.036309 seconds\n"
          ]
        }
      ],
      "source": [
        "start_time = time.time()\n",
        "sorted_partially_sorted = sorted(partially_sorted)\n",
        "partially_sorted_time = time.time() - start_time\n",
        "print(f\"Time to sort partially sorted list: {partially_sorted_time:.6f} seconds\")"
      ]
    },
    {
      "cell_type": "code",
      "source": [
        "# Python's default sort\n",
        "start_time = time.time()\n",
        "sorted_large_array = sorted(large_array)\n",
        "large_array_time = time.time() - start_time\n",
        "print(f\"Python's default sort: {large_array_time:.6f} seconds\")"
      ],
      "metadata": {
        "id": "bWe3HuJdipPy",
        "colab": {
          "base_uri": "https://localhost:8080/"
        },
        "outputId": "c505737f-f3f3-4bd3-b6e7-d4b154883483"
      },
      "execution_count": 9,
      "outputs": [
        {
          "output_type": "stream",
          "name": "stdout",
          "text": [
            "Python's default sort: 0.046238 seconds\n"
          ]
        }
      ]
    },
    {
      "cell_type": "code",
      "source": [
        "#\n",
        "print(f\"Data integrity of large_array after scrap: {sorted_partially_sorted == sorted_large_array}\")"
      ],
      "metadata": {
        "id": "XqGj-r4KizbK",
        "colab": {
          "base_uri": "https://localhost:8080/"
        },
        "outputId": "dfc9cdd1-245b-427f-9ea8-bb74b9af100a"
      },
      "execution_count": 10,
      "outputs": [
        {
          "output_type": "stream",
          "name": "stdout",
          "text": [
            "Data integrity of large_array after scrap: True\n"
          ]
        }
      ]
    },
    {
      "cell_type": "code",
      "source": [
        "###\n",
        "print(f\"Overall time to sort partially sorted list (Scrap Sort): {partially_sorted_time + large_array_time_scrap:.6f} seconds\")"
      ],
      "metadata": {
        "colab": {
          "base_uri": "https://localhost:8080/"
        },
        "id": "ewBMGF9m6IhB",
        "outputId": "edace137-2d5c-4e15-f30d-58794e82b985"
      },
      "execution_count": 11,
      "outputs": [
        {
          "output_type": "stream",
          "name": "stdout",
          "text": [
            "Overall time to sort partially sorted list (Scrap Sort): 0.128438 seconds\n"
          ]
        }
      ]
    },
    {
      "cell_type": "code",
      "execution_count": 12,
      "metadata": {
        "id": "ZTYXjAh3BBgq",
        "colab": {
          "base_uri": "https://localhost:8080/"
        },
        "outputId": "189ea73f-f809-403a-a056-f7afd4bd9b69"
      },
      "outputs": [
        {
          "output_type": "stream",
          "name": "stdout",
          "text": [
            "Tim sort: 0.054858 seconds\n"
          ]
        }
      ],
      "source": [
        "# Tim sort\n",
        "# Python's default sort\n",
        "start_time = time.time()\n",
        "sorted_large_array = sorted(large_array)\n",
        "large_array_time_tim = time.time() - start_time\n",
        "print(f\"Tim sort: {large_array_time_tim:.6f} seconds\")"
      ]
    },
    {
      "cell_type": "code",
      "execution_count": 13,
      "metadata": {
        "id": "c5yK1IPDN04v",
        "colab": {
          "base_uri": "https://localhost:8080/"
        },
        "outputId": "dac8f6f9-477d-42b0-e56f-8447467fbfd2"
      },
      "outputs": [
        {
          "output_type": "stream",
          "name": "stdout",
          "text": [
            "Quick sort: 0.798486 seconds\n"
          ]
        }
      ],
      "source": [
        "# Quick sort\n",
        "start_time = time.time()\n",
        "quick_sorted = quick_sort(large_array)\n",
        "large_array_time_quick = time.time() - start_time\n",
        "print(f\"Quick sort: {large_array_time_quick:.6f} seconds\")"
      ]
    },
    {
      "cell_type": "code",
      "source": [
        "# Merge sort\n",
        "start_time = time.time()\n",
        "merge_sorted = merge_sort(large_array)\n",
        "large_array_time_merge = time.time() - start_time\n",
        "print(f\"Merge sort: {large_array_time_merge:.6f} seconds\")"
      ],
      "metadata": {
        "colab": {
          "base_uri": "https://localhost:8080/"
        },
        "id": "nqrpRur55pEh",
        "outputId": "3a39fd2f-3036-48f5-895d-72f6fdb68368"
      },
      "execution_count": 14,
      "outputs": [
        {
          "output_type": "stream",
          "name": "stdout",
          "text": [
            "Merge sort: 0.826133 seconds\n"
          ]
        }
      ]
    },
    {
      "cell_type": "code",
      "source": [
        "# Shell sort\n",
        "start_time = time.time()\n",
        "shell_sorted = shell_sort(large_array)\n",
        "large_array_time_shell = time.time() - start_time\n",
        "print(f\"Shell sort: {large_array_time_shell:.6f} seconds\")"
      ],
      "metadata": {
        "id": "crZccrmO5p9B",
        "colab": {
          "base_uri": "https://localhost:8080/"
        },
        "outputId": "41e809c3-f19e-4e7e-fad2-b067a9f48912"
      },
      "execution_count": 15,
      "outputs": [
        {
          "output_type": "stream",
          "name": "stdout",
          "text": [
            "Shell sort: 0.662395 seconds\n"
          ]
        }
      ]
    },
    {
      "cell_type": "code",
      "source": [
        "# Radix sort\n",
        "start_time = time.time()\n",
        "radix_sorted = radix_sort(large_array)\n",
        "large_array_time_radix = time.time() - start_time\n",
        "print(f\"Radix sort: {large_array_time_radix:.6f} seconds\")"
      ],
      "metadata": {
        "id": "VF6I0ZUh5q29",
        "colab": {
          "base_uri": "https://localhost:8080/"
        },
        "outputId": "84515f45-577a-4f0b-fc01-3e09e30b55f8"
      },
      "execution_count": 16,
      "outputs": [
        {
          "output_type": "stream",
          "name": "stdout",
          "text": [
            "Radix sort: 0.423308 seconds\n"
          ]
        }
      ]
    },
    {
      "cell_type": "code",
      "source": [
        "# Bucket sort\n",
        "start_time = time.time()\n",
        "bucket_sorted = bucket_sort(large_array)\n",
        "large_array_time_bucket = time.time() - start_time\n",
        "print(f\"Bucket sort: {large_array_time_bucket:.6f} seconds\")"
      ],
      "metadata": {
        "id": "66kV6k6T5u_T",
        "colab": {
          "base_uri": "https://localhost:8080/"
        },
        "outputId": "54dd53ce-40f0-4f04-b8fc-6a3689a36e51"
      },
      "execution_count": 17,
      "outputs": [
        {
          "output_type": "stream",
          "name": "stdout",
          "text": [
            "Bucket sort: 201.763819 seconds\n"
          ]
        }
      ]
    },
    {
      "cell_type": "code",
      "source": [
        "# Bubble sort\n",
        "start_time = time.time()\n",
        "bubble_sorted = bubble_sort(large_array)\n",
        "large_array_time_bubble = time.time() - start_time\n",
        "print(f\"Bubble sort: {large_array_time_bubble:.6f} seconds\")"
      ],
      "metadata": {
        "id": "fBAM2OHa5v0c",
        "colab": {
          "base_uri": "https://localhost:8080/"
        },
        "outputId": "03af5728-5d60-4918-889e-d90a21237b77"
      },
      "execution_count": 18,
      "outputs": [
        {
          "output_type": "stream",
          "name": "stdout",
          "text": [
            "Bubble sort: 0.015836 seconds\n"
          ]
        }
      ]
    },
    {
      "cell_type": "code",
      "source": [
        "# Min Heap sort\n",
        "start_time = time.time()\n",
        "min_heap_sorted = heap_sort.min_heap_sort(large_array)\n",
        "large_array_time_min_heap = time.time() - start_time\n",
        "print(f\"Min Heap sort: {large_array_time_min_heap:.6f} seconds\")"
      ],
      "metadata": {
        "id": "lcPlGYCW5wpQ",
        "colab": {
          "base_uri": "https://localhost:8080/"
        },
        "outputId": "52833ee8-d2df-44ac-91c4-98276bb7b7dc"
      },
      "execution_count": 19,
      "outputs": [
        {
          "output_type": "stream",
          "name": "stdout",
          "text": [
            "Min Heap sort: 627.813976 seconds\n"
          ]
        }
      ]
    },
    {
      "cell_type": "code",
      "source": [
        "# Max Heap sort\n",
        "start_time = time.time()\n",
        "max_heap_sorted = heap_sort.max_heap_sort(large_array)\n",
        "large_array_time_max_heap = time.time() - start_time\n",
        "print(f\"Max Heap sort: {large_array_time_max_heap:.6f} seconds\")"
      ],
      "metadata": {
        "id": "Xqb9FzWt9IEI",
        "colab": {
          "base_uri": "https://localhost:8080/"
        },
        "outputId": "04410a2b-5703-4891-c69c-99d107bd5cec"
      },
      "execution_count": 20,
      "outputs": [
        {
          "output_type": "stream",
          "name": "stdout",
          "text": [
            "Max Heap sort: 512.277808 seconds\n"
          ]
        }
      ]
    },
    {
      "cell_type": "code",
      "source": [
        "# Selection sort\n",
        "start_time = time.time()\n",
        "selection_sorted = selection_sort(large_array)\n",
        "large_array_time_selection = time.time() - start_time\n",
        "print(f\"Selection sort: {large_array_time_selection:.6f} seconds\")"
      ],
      "metadata": {
        "id": "FchATStq5tCW",
        "colab": {
          "base_uri": "https://localhost:8080/"
        },
        "outputId": "3f0525ba-41bb-4abd-fc17-e3e4095387e1"
      },
      "execution_count": 21,
      "outputs": [
        {
          "output_type": "stream",
          "name": "stdout",
          "text": [
            "Selection sort: 360.091035 seconds\n"
          ]
        }
      ]
    },
    {
      "cell_type": "code",
      "source": [
        "# Insertion sort\n",
        "start_time = time.time()\n",
        "insertion_sorted = insertion_sort(large_array)\n",
        "large_array_time_insertion = time.time() - start_time\n",
        "print(f\"Insertion sort: {large_array_time_insertion:.6f} seconds\")"
      ],
      "metadata": {
        "id": "H1jrzm4a5t9R",
        "colab": {
          "base_uri": "https://localhost:8080/"
        },
        "outputId": "f8f60926-6b48-4960-9b2b-b1184fcdce1d"
      },
      "execution_count": 22,
      "outputs": [
        {
          "output_type": "stream",
          "name": "stdout",
          "text": [
            "Insertion sort: 0.023085 seconds\n"
          ]
        }
      ]
    },
    {
      "cell_type": "code",
      "source": [
        "# Counting sort\n",
        "start_time = time.time()\n",
        "counting_sorted = counting_sort(large_array)\n",
        "large_array_time_counting = time.time() - start_time\n",
        "print(f\"Counting sort: {large_array_time_counting:.6f} seconds\")"
      ],
      "metadata": {
        "id": "2l7BWNZL5r9R",
        "colab": {
          "base_uri": "https://localhost:8080/"
        },
        "outputId": "4d906427-91c1-4424-e7fb-591f76df0256"
      },
      "execution_count": 23,
      "outputs": [
        {
          "output_type": "stream",
          "name": "stdout",
          "text": [
            "Counting sort: 23.217091 seconds\n"
          ]
        }
      ]
    },
    {
      "cell_type": "code",
      "source": [
        "# Create the different sort types\n",
        "print(\"## The time to sort large_array list with different sorting algorithms ##\")\n",
        "print(\"----------\")\n",
        "\n",
        "print(\"\\n\")\n",
        "print(f\"Overall time to sort partially sorted list (Scrap Sort): {partially_sorted_time + large_array_time_scrap:.6f} seconds \\n\")\n",
        "\n",
        "print(f\"Tim sort: {large_array_time_tim:.6f} seconds\")\n",
        "print(f\"Merge sort: {large_array_time_merge:.6f} seconds\")\n",
        "print(f\"Shell sort: {large_array_time_shell:.6f} seconds\")\n",
        "print(f\"Radix sort: {large_array_time_radix:.6f} seconds\")\n",
        "print(f\"Counting sort: {large_array_time_counting:.6f} seconds\")\n",
        "print(f\"Bucket sort: {large_array_time_bucket:.6f} seconds\")\n",
        "print(f\"Bubble sort: {large_array_time_bubble:.6f} seconds\")\n",
        "print(f\"Quick sort: {large_array_time_quick:.6f} seconds\")\n",
        "print(f\"Min Heap sort: {large_array_time_min_heap:.6f} seconds\")\n",
        "print(f\"Max Heap sort: {large_array_time_max_heap:.6f} seconds\")\n",
        "print(f\"Selection sort: {large_array_time_selection:.6f} seconds\")\n",
        "print(f\"Insertion sort: {large_array_time_insertion:.6f} seconds\")"
      ],
      "metadata": {
        "colab": {
          "base_uri": "https://localhost:8080/"
        },
        "id": "QymMEGrmF6rN",
        "outputId": "793ec041-6814-4f3d-a0aa-bd154bed6c0e"
      },
      "execution_count": 24,
      "outputs": [
        {
          "output_type": "stream",
          "name": "stdout",
          "text": [
            "## The time to sort large_array list with different sorting algorithms ##\n",
            "----------\n",
            "\n",
            "\n",
            "Overall time to sort partially sorted list (Scrap Sort): 0.128438 seconds \n",
            "\n",
            "Tim sort: 0.054858 seconds\n",
            "Merge sort: 0.826133 seconds\n",
            "Shell sort: 0.662395 seconds\n",
            "Radix sort: 0.423308 seconds\n",
            "Counting sort: 23.217091 seconds\n",
            "Bucket sort: 201.763819 seconds\n",
            "Bubble sort: 0.015836 seconds\n",
            "Quick sort: 0.798486 seconds\n",
            "Min Heap sort: 627.813976 seconds\n",
            "Max Heap sort: 512.277808 seconds\n",
            "Selection sort: 360.091035 seconds\n",
            "Insertion sort: 0.023085 seconds\n"
          ]
        }
      ]
    },
    {
      "cell_type": "code",
      "source": [
        "print(\"- THANK YOU -\")"
      ],
      "metadata": {
        "id": "MhD2wpaC8Fm4",
        "colab": {
          "base_uri": "https://localhost:8080/"
        },
        "outputId": "53c93cbb-94bc-4abb-d8f1-1dd311286236"
      },
      "execution_count": 25,
      "outputs": [
        {
          "output_type": "stream",
          "name": "stdout",
          "text": [
            "- THANK YOU -\n"
          ]
        }
      ]
    }
  ],
  "metadata": {
    "colab": {
      "provenance": [],
      "gpuType": "V28"
    },
    "kernelspec": {
      "display_name": "Python 3",
      "name": "python3"
    },
    "language_info": {
      "name": "python"
    },
    "accelerator": "TPU"
  },
  "nbformat": 4,
  "nbformat_minor": 0
}